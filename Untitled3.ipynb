{
 "cells": [
  {
   "cell_type": "code",
   "execution_count": null,
   "id": "6fbc9a65-207f-4ccf-8682-018ac4b4aef0",
   "metadata": {},
   "outputs": [
    {
     "name": "stdout",
     "output_type": "stream",
     "text": [
      "Enter a sentence to analyze the sentiment and receive suggestions (type 'exit' to quit):\n"
     ]
    },
    {
     "name": "stdin",
     "output_type": "stream",
     "text": [
      "Your input:  \n"
     ]
    },
    {
     "name": "stdout",
     "output_type": "stream",
     "text": [
      "Result:\n",
      "Sure, I'd be happy to help! Please provide me with the text you would like me to analyze.\n",
      "\n",
      "---\n",
      "\n",
      "Based on the sentiment of the text, I will provide one of the following:\n",
      "\n",
      "1. The sentiment of the text: 'Positive', 'Negative', or 'Neutral'.\n",
      "2. A helpful suggestion or advice based on the sentiment:\n",
      "    - If the sentiment is positive, I will suggest ways to maintain or enhance it.\n",
      "    - If the sentiment is negative, I will suggest ways to improve or overcome the negativity.\n",
      "    - If the sentiment is neutral, I will suggest ways to add more emotion or perspective to the text.\n",
      "\n"
     ]
    },
    {
     "name": "stdin",
     "output_type": "stream",
     "text": [
      "Your input:  h\n"
     ]
    },
    {
     "name": "stdout",
     "output_type": "stream",
     "text": [
      "Result:\n",
      "I'm sorry for the incomplete input. To analyze the sentiment, please provide a text for me to evaluate.\n",
      "\n",
      "As an assistant, I can help you with sentiment analysis and suggestions based on the tone of the text. Here's how it works:\n",
      "\n",
      "1. If the sentiment is positive, I will suggest ways to maintain or enhance it, for example, by providing reinforcement or encouragement.\n",
      "2. If the sentiment is negative, I will suggest ways to improve or overcome the negativity, such as offering solutions or alternative perspectives.\n",
      "3. If the sentiment is neutral, I will suggest ways to add more emotion or perspective to the text, making it more engaging and relatable.\n",
      "\n",
      "Please share the\n",
      "\n"
     ]
    }
   ],
   "source": [
    "Here is the completed code:\n",
    "\n",
    "\n",
    "from langchain_groq import ChatGroq\n",
    "import json\n",
    "\n",
    "llm = ChatGroq(\n",
    "    model=\"mixtral-8x7b-32768\",\n",
    "    temperature=0,\n",
    "    groq_api_key=\"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\"\n",
    ")\n",
    "\n",
    "python_code = \"\"\"\n",
    "def add(a, b):\n",
    "    return a + b\n",
    "\"\"\"\n",
    "\n",
    "# Structured prompt for JSON output\n",
    "code_review_prompt = f\"\"\"\n",
    "You are a professional Python code reviewer. \n",
    "Analyze the following function and provide a structured review. \n",
    "Return the response in strict JSON format with three keys:\n",
    "- \"errors\": A list of syntax or logical errors.\n",
    "- \"suggestions\": A list of improvements.\n",
    "- \"optimized_code\": The corrected and optimized version of the function.\n",
    "Ensure your response is **valid JSON only**.\n",
    "python\n",
    "{python_code}\n",
    "\"\"\"\n",
    "\n",
    "# Invoke the LLM with the prompt\n",
    "response = llm.invoke(code_review_prompt)\n",
    "\n",
    "# Parse the JSON response\n",
    "try:\n",
    "    json_response = json.loads(response.content.strip())\n",
    "    print(\"Code Review Response:\")\n",
    "    print(json.dumps(json_response, indent=4))\n",
    "except json.JSONDecodeError as e:\n",
    "    print(\"Error parsing JSON response:\", e)\n",
    "```\n",
    "\n",
    "This code invokes the LLM with the provided prompt, parses the JSON response, and prints the result. If the response is not valid JSON, it catches the JSONDecodeError and prints an error message."
   ]
  }
 ],
 "metadata": {
  "kernelspec": {
   "display_name": "Python 3 (ipykernel)",
   "language": "python",
   "name": "python3"
  },
  "language_info": {
   "codemirror_mode": {
    "name": "ipython",
    "version": 3
   },
   "file_extension": ".py",
   "mimetype": "text/x-python",
   "name": "python",
   "nbconvert_exporter": "python",
   "pygments_lexer": "ipython3",
   "version": "3.13.2"
  }
 },
 "nbformat": 4,
 "nbformat_minor": 5
}
