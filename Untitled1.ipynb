{
 "cells": [
  {
   "cell_type": "code",
   "execution_count": 7,
   "id": "112d5c93-d5b2-407b-8387-32d2d13e8e54",
   "metadata": {},
   "outputs": [],
   "source": [
    "from langchain_groq import ChatGroq\n"
   ]
  },
  {
   "cell_type": "code",
   "execution_count": 13,
   "id": "5e6e45a9-1f6e-4e6f-a897-1ec0514aff33",
   "metadata": {},
   "outputs": [],
   "source": [
    "llm = ChatGroq(\n",
    "    model='mixtral-8x7b-32768',\n",
    "    temperature=0,\n",
    "    groq_api_key = \"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\"\n",
    ")"
   ]
  },
  {
   "cell_type": "code",
   "execution_count": 14,
   "id": "9aef1835-064e-4905-a964-3ab58dd1d438",
   "metadata": {},
   "outputs": [
    {
     "data": {
      "text/plain": [
       "AIMessage(content='As of my knowledge up to October 2021, the Prime Minister of India is Narendra Modi. He has been in office since May 2014. However, please verify from a reliable source as this information might have changed.', additional_kwargs={}, response_metadata={'token_usage': {'completion_tokens': 55, 'prompt_tokens': 14, 'total_tokens': 69, 'completion_time': 0.083565909, 'prompt_time': 0.002282154, 'queue_time': 0.019998526, 'total_time': 0.085848063}, 'model_name': 'mixtral-8x7b-32768', 'system_fingerprint': 'fp_c5f20b5bb1', 'finish_reason': 'stop', 'logprobs': None}, id='run-5ffe8b1d-5df0-433d-b347-6cf0b68b549f-0', usage_metadata={'input_tokens': 14, 'output_tokens': 55, 'total_tokens': 69})"
      ]
     },
     "execution_count": 14,
     "metadata": {},
     "output_type": "execute_result"
    }
   ],
   "source": [
    "response = llm.invoke(\"who is the prime minister of India\")\n",
    "response"
   ]
  },
  {
   "cell_type": "code",
   "execution_count": 15,
   "id": "abf74fb1-7783-4ec4-bef0-b7ac19c57ede",
   "metadata": {},
   "outputs": [
    {
     "data": {
      "text/plain": [
       "AIMessage(content=\"As of my knowledge up to 2021, the estimated population of India is about 1.366 billion people, making it the second most populous country in the world after China. However, please note that population figures can change over time due to births, deaths, and migration, so it's always a good idea to check the most recent data from a reliable source.\", additional_kwargs={}, response_metadata={'token_usage': {'completion_tokens': 83, 'prompt_tokens': 16, 'total_tokens': 99, 'completion_time': 0.126370224, 'prompt_time': 0.002313083, 'queue_time': 0.019959327, 'total_time': 0.128683307}, 'model_name': 'mixtral-8x7b-32768', 'system_fingerprint': 'fp_c5f20b5bb1', 'finish_reason': 'stop', 'logprobs': None}, id='run-a458fee1-b903-4a7a-ad95-1a161c14335c-0', usage_metadata={'input_tokens': 16, 'output_tokens': 83, 'total_tokens': 99})"
      ]
     },
     "execution_count": 15,
     "metadata": {},
     "output_type": "execute_result"
    }
   ],
   "source": [
    "response = llm.invoke(\"what is the popullation of india\")\n",
    "response"
   ]
  }
 ],
 "metadata": {
  "kernelspec": {
   "display_name": "Python 3 (ipykernel)",
   "language": "python",
   "name": "python3"
  },
  "language_info": {
   "codemirror_mode": {
    "name": "ipython",
    "version": 3
   },
   "file_extension": ".py",
   "mimetype": "text/x-python",
   "name": "python",
   "nbconvert_exporter": "python",
   "pygments_lexer": "ipython3",
   "version": "3.13.2"
  }
 },
 "nbformat": 4,
 "nbformat_minor": 5
}
